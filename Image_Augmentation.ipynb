{
 "cells": [
  {
   "cell_type": "markdown",
   "metadata": {},
   "source": [
    "# Image Augmentation"
   ]
  },
  {
   "cell_type": "code",
   "execution_count": 1,
   "metadata": {},
   "outputs": [
    {
     "name": "stderr",
     "output_type": "stream",
     "text": [
      "Using TensorFlow backend.\n"
     ]
    }
   ],
   "source": [
    "from keras.preprocessing.image import ImageDataGenerator,array_to_img\n",
    "import cv2\n",
    "import os\n",
    "import numpy as np"
   ]
  },
  {
   "cell_type": "code",
   "execution_count": 3,
   "metadata": {},
   "outputs": [
    {
     "name": "stdout",
     "output_type": "stream",
     "text": [
      "['brain.JPG']\n",
      "(360, 313, 3)\n",
      "(1, 360, 313, 3)\n",
      "[[[63 63 63]\n",
      "  [63 63 63]\n",
      "  [63 63 63]\n",
      "  ...\n",
      "  [61 59 59]\n",
      "  [59 59 59]\n",
      "  [59 59 59]]\n",
      "\n",
      " [[63 63 63]\n",
      "  [63 63 63]\n",
      "  [63 63 63]\n",
      "  ...\n",
      "  [61 59 59]\n",
      "  [59 59 59]\n",
      "  [59 59 59]]\n",
      "\n",
      " [[63 63 63]\n",
      "  [63 63 63]\n",
      "  [63 63 63]\n",
      "  ...\n",
      "  [61 59 59]\n",
      "  [59 59 59]\n",
      "  [59 59 59]]\n",
      "\n",
      " ...\n",
      "\n",
      " [[35 35 35]\n",
      "  [35 35 35]\n",
      "  [35 35 35]\n",
      "  ...\n",
      "  [67 51 29]\n",
      "  [53 39 25]\n",
      "  [47 37 29]]\n",
      "\n",
      " [[35 35 35]\n",
      "  [35 35 35]\n",
      "  [35 35 35]\n",
      "  ...\n",
      "  [55 41 27]\n",
      "  [49 41 29]\n",
      "  [47 39 35]]\n",
      "\n",
      " [[35 35 35]\n",
      "  [35 35 35]\n",
      "  [35 35 35]\n",
      "  ...\n",
      "  [49 41 29]\n",
      "  [49 41 37]\n",
      "  [45 39 39]]]\n"
     ]
    }
   ],
   "source": [
    "path=r'C:\\Users\\Rvi\\Desktop\\demo'\n",
    "image=os.listdir(path)\n",
    "print(image)\n",
    "image_path=os.path.join(path,image[0])\n",
    "x=cv2.imread(image_path)\n",
    "print(np.shape(x))\n",
    "y=np.expand_dims(x,0)\n",
    "print(np.shape(y))\n",
    "aug_iter=gen.flow(y)\n",
    "aug_image=[next(aug_iter)[0].astype(np.uint8) for i in range(20)]\n",
    "print(aug_image[1])\n",
    "for j in range(20):\n",
    "        x=str(j)+\".jpg\"\n",
    "        directory=os.path.join(\"C:\\\\Users\\\\Rvi\\Desktop\\\\demo\",x)\n",
    "        cv2.imwrite(directory,aug_image[j])"
   ]
  },
  {
   "cell_type": "code",
   "execution_count": 2,
   "metadata": {},
   "outputs": [],
   "source": [
    "gen=ImageDataGenerator(rotation_range=10,width_shift_range=0.1\n",
    "                       ,height_shift_range=0.1, shear_range=0.15, \n",
    "                       zoom_range=0.1,channel_shift_range=10.,horizontal_flip=True,vertical_flip=True,brightness_range=[1,5])"
   ]
  },
  {
   "cell_type": "code",
   "execution_count": null,
   "metadata": {},
   "outputs": [
    {
     "name": "stdout",
     "output_type": "stream",
     "text": [
      "Y1.jpg\n",
      "Y10.jpg\n",
      "Y100.JPG\n",
      "Y101.jpg\n",
      "Y102.jpg\n",
      "Y103.jpg\n",
      "Y104.jpg\n",
      "Y105.jpg\n",
      "Y106.jpg\n",
      "Y107.jpg\n",
      "Y108.jpg\n",
      "Y109.JPG\n",
      "Y11.jpg\n",
      "Y111.JPG\n",
      "Y112.JPG\n",
      "Y113.JPG\n",
      "Y114.JPG\n",
      "Y115.JPG\n",
      "Y116.JPG\n",
      "Y117.JPG\n",
      "Y12.jpg\n",
      "Y120.JPG\n",
      "Y13.jpg\n",
      "Y14.jpg\n",
      "Y146.JPG\n",
      "Y147.JPG\n",
      "Y148.JPG\n",
      "Y15.jpg\n",
      "Y153.jpg\n",
      "Y154.jpg\n",
      "Y155.JPG\n",
      "Y156.JPG\n",
      "Y157.JPG\n",
      "Y158.JPG\n",
      "Y159.JPG\n",
      "Y16.JPG\n",
      "Y160.JPG\n",
      "Y161.JPG\n",
      "Y162.jpg\n",
      "Y163.JPG\n",
      "Y164.JPG\n",
      "Y165.JPG\n",
      "Y166.JPG\n",
      "Y167.JPG\n",
      "Y168.jpg\n",
      "Y169.jpg\n",
      "Y17.jpg\n",
      "Y170.JPG\n",
      "Y18.JPG\n",
      "Y180.jpg\n",
      "Y181.jpg\n",
      "Y182.JPG\n",
      "Y183.jpg\n",
      "Y184.JPG\n",
      "Y185.jpg\n",
      "Y186.jpg\n",
      "Y187.jpg\n",
      "Y188.jpg\n",
      "Y19.JPG\n",
      "Y192.JPG\n",
      "Y193.JPG\n",
      "Y194.jpg\n",
      "Y195.JPG\n",
      "Y2.jpg\n",
      "Y20.jpg\n",
      "Y21.jpg\n",
      "Y22.jpg\n",
      "Y23.JPG\n",
      "Y24.jpg\n",
      "Y242.JPG\n",
      "Y243.JPG\n",
      "Y244.JPG\n",
      "Y245.jpg\n",
      "Y246.JPG\n",
      "Y247.JPG\n",
      "Y248.JPG\n",
      "Y249.JPG\n",
      "Y25.jpg\n",
      "Y250.jpg\n",
      "Y251.JPG\n",
      "Y252.jpg\n",
      "Y253.JPG\n",
      "Y254.jpg\n",
      "Y255.JPG\n",
      "Y256.JPG\n",
      "Y257.jpg\n",
      "Y258.JPG\n",
      "Y259.JPG\n",
      "Y26.jpg\n",
      "Y27.jpg\n",
      "Y28.jpg\n",
      "Y29.jpg\n",
      "Y3.jpg\n"
     ]
    }
   ],
   "source": [
    "path=r'C:\\Users\\Rvi\\Downloads\\brain\\yes'\n",
    "for i in iter(os.listdir(path)):\n",
    "    path=os.path.join(path,i)\n",
    "    print(i)\n",
    "    image=np.expand_dims(cv2.imread(path),0)\n",
    "    aug_iter=gen.flow(image)\n",
    "    aug_image=[next(aug_iter)[0].astype(np.uint8) for i in range(25)]\n",
    "    \n",
    "    for j in range(25):\n",
    "        x=i+str(j)+\".jpg\"\n",
    "        directory=os.path.join(\"C:\\\\Users\\\\Rvi\\Downloads\\\\brain\\\\aug_yes\",x)\n",
    "        cv2.imwrite(directory,aug_image[j])\n",
    "    path=r'C:\\Users\\Rvi\\Downloads\\brain\\yes'\n",
    "    "
   ]
  },
  {
   "cell_type": "code",
   "execution_count": 76,
   "metadata": {},
   "outputs": [
    {
     "name": "stdout",
     "output_type": "stream",
     "text": [
      "1 no.jpeg\n",
      "10 no.jpg\n",
      "11 no.jpg\n",
      "12 no.jpg\n",
      "13 no.jpg\n",
      "14 no.jpg\n",
      "15 no.jpg\n",
      "17 no.jpg\n",
      "18 no.jpg\n",
      "19 no.jpg\n",
      "2 no.jpeg\n",
      "20 no.jpg\n",
      "21 no.jpg\n",
      "22 no.jpg\n",
      "23 no.jpg\n",
      "24 no.jpg\n",
      "25 no.jpg\n",
      "26 no.jpg\n",
      "27 no.jpg\n",
      "28 no.jpg\n",
      "29 no.jpg\n",
      "3 no.jpg\n",
      "30 no.jpg\n",
      "31 no.jpg\n",
      "32 no.jpg\n",
      "33 no.jpg\n",
      "34 no.jpg\n",
      "35 no.jpg\n",
      "36 no.jpg\n",
      "37 no.jpg\n",
      "38 no.jpg\n",
      "39 no.jpg\n",
      "4 no.jpg\n",
      "40 no.jpg\n",
      "41 no.jpg\n",
      "42 no.jpg\n",
      "43 no.jpg\n",
      "44no.jpg\n",
      "45 no.jpg\n",
      "46 no.jpg\n",
      "47 no.jpg\n",
      "48 no.jpeg\n",
      "49 no.jpg\n",
      "5 no.jpg\n",
      "50 no.jpg\n",
      "6 no.jpg\n",
      "7 no.jpg\n",
      "8 no.jpg\n",
      "9 no.jpg\n",
      "N1.JPG\n",
      "N11.jpg\n",
      "N15.jpg\n",
      "N16.jpg\n",
      "N17.jpg\n",
      "N19.JPG\n",
      "N2.JPG\n",
      "N20.JPG\n",
      "N21.jpg\n",
      "N22.JPG\n",
      "N26.JPG\n",
      "N3.jpg\n",
      "N5.jpg\n",
      "N6.jpg\n",
      "no 1.jpg\n",
      "no 10.jpg\n",
      "no 100.jpg\n",
      "no 2.jpg\n",
      "no 3.jpg\n",
      "no 4.jpg\n",
      "no 5.jpeg\n",
      "no 6.jpg\n",
      "no 7.jpeg\n",
      "no 8.jpg\n",
      "no 89.jpg\n",
      "no 9.png\n",
      "no 90.jpg\n",
      "no 91.jpeg\n",
      "no 92.jpg\n",
      "no 923.jpg\n",
      "no 94.jpg\n",
      "no 95.jpg\n",
      "no 96.jpg\n",
      "no 97.jpg\n",
      "no 98.jpg\n",
      "no 99.jpg\n",
      "no.jpg\n",
      "No11.jpg\n",
      "No12.jpg\n",
      "No13.jpg\n",
      "No14.jpg\n",
      "No15.jpg\n",
      "No16.jpg\n",
      "No17.jpg\n",
      "No18.jpg\n",
      "No19.jpg\n",
      "No20.jpg\n",
      "No21.jpg\n",
      "No22.jpg\n"
     ]
    }
   ],
   "source": [
    "path=r'C:\\Users\\Rvi\\Downloads\\brain\\no'\n",
    "for i in iter(os.listdir(path)):\n",
    "    path=os.path.join(path,i)\n",
    "    print(i)\n",
    "    image=np.expand_dims(cv2.imread(path),0)\n",
    "    aug_iter=gen.flow(image)\n",
    "    aug_image=[next(aug_iter)[0].astype(np.uint8) for i in range(32)]\n",
    "    \n",
    "    for j in range(32):\n",
    "        x=i+str(j)+\".jpg\"\n",
    "        directory=os.path.join(\"C:\\\\Users\\\\Rvi\\Downloads\\\\brain\\\\aug_no\",x)\n",
    "        cv2.imwrite(directory,aug_image[j])\n",
    "    path=r'C:\\Users\\Rvi\\Downloads\\brain\\no'\n",
    "    "
   ]
  },
  {
   "cell_type": "code",
   "execution_count": 18,
   "metadata": {},
   "outputs": [
    {
     "name": "stdout",
     "output_type": "stream",
     "text": [
      "12345\n"
     ]
    }
   ],
   "source": [
    "n=input()\n",
    "sum=0\n",
    "for i in range(len(n)-1,-1,-1):\n",
    "    if(sum<10):\n",
    "        sum+=i\n",
    "    else:\n",
    "        break"
   ]
  },
  {
   "cell_type": "code",
   "execution_count": 20,
   "metadata": {},
   "outputs": [
    {
     "data": {
      "text/plain": [
       "10"
      ]
     },
     "execution_count": 20,
     "metadata": {},
     "output_type": "execute_result"
    }
   ],
   "source": [
    "sum"
   ]
  },
  {
   "cell_type": "code",
   "execution_count": 8,
   "metadata": {},
   "outputs": [
    {
     "data": {
      "text/plain": [
       "'has'"
      ]
     },
     "execution_count": 8,
     "metadata": {},
     "output_type": "execute_result"
    }
   ],
   "source": []
  },
  {
   "cell_type": "code",
   "execution_count": 1,
   "metadata": {},
   "outputs": [
    {
     "data": {
      "text/plain": [
       "'3'"
      ]
     },
     "execution_count": 1,
     "metadata": {},
     "output_type": "execute_result"
    }
   ],
   "source": [
    "chr(48+3)"
   ]
  },
  {
   "cell_type": "code",
   "execution_count": null,
   "metadata": {},
   "outputs": [],
   "source": []
  },
  {
   "cell_type": "code",
   "execution_count": null,
   "metadata": {},
   "outputs": [],
   "source": []
  },
  {
   "cell_type": "code",
   "execution_count": 78,
   "metadata": {},
   "outputs": [
    {
     "name": "stderr",
     "output_type": "stream",
     "text": [
      "C:\\Users\\Rvi\\Anaconda3\\lib\\site-packages\\ipykernel_launcher.py:11: DeprecationWarning: `toimage` is deprecated!\n",
      "`toimage` is deprecated in SciPy 1.0.0, and will be removed in 1.2.0.\n",
      "Use Pillow's ``Image.fromarray`` directly instead.\n",
      "  # This is added back by InteractiveShellApp.init_path()\n"
     ]
    }
   ],
   "source": []
  },
  {
   "cell_type": "code",
   "execution_count": null,
   "metadata": {},
   "outputs": [],
   "source": []
  },
  {
   "cell_type": "code",
   "execution_count": null,
   "metadata": {},
   "outputs": [],
   "source": [
    "\n"
   ]
  },
  {
   "cell_type": "code",
   "execution_count": null,
   "metadata": {},
   "outputs": [],
   "source": []
  },
  {
   "cell_type": "code",
   "execution_count": null,
   "metadata": {},
   "outputs": [],
   "source": []
  },
  {
   "cell_type": "code",
   "execution_count": null,
   "metadata": {},
   "outputs": [],
   "source": []
  },
  {
   "cell_type": "code",
   "execution_count": null,
   "metadata": {},
   "outputs": [],
   "source": []
  },
  {
   "cell_type": "code",
   "execution_count": null,
   "metadata": {},
   "outputs": [],
   "source": []
  },
  {
   "cell_type": "code",
   "execution_count": null,
   "metadata": {},
   "outputs": [],
   "source": []
  },
  {
   "cell_type": "code",
   "execution_count": null,
   "metadata": {},
   "outputs": [],
   "source": []
  },
  {
   "cell_type": "code",
   "execution_count": null,
   "metadata": {},
   "outputs": [],
   "source": []
  },
  {
   "cell_type": "code",
   "execution_count": null,
   "metadata": {},
   "outputs": [],
   "source": []
  },
  {
   "cell_type": "code",
   "execution_count": null,
   "metadata": {},
   "outputs": [],
   "source": []
  },
  {
   "cell_type": "markdown",
   "metadata": {},
   "source": []
  },
  {
   "cell_type": "code",
   "execution_count": null,
   "metadata": {},
   "outputs": [],
   "source": []
  },
  {
   "cell_type": "code",
   "execution_count": null,
   "metadata": {},
   "outputs": [],
   "source": []
  },
  {
   "cell_type": "code",
   "execution_count": null,
   "metadata": {},
   "outputs": [],
   "source": []
  },
  {
   "cell_type": "code",
   "execution_count": null,
   "metadata": {},
   "outputs": [],
   "source": []
  },
  {
   "cell_type": "code",
   "execution_count": null,
   "metadata": {},
   "outputs": [],
   "source": []
  },
  {
   "cell_type": "code",
   "execution_count": null,
   "metadata": {},
   "outputs": [],
   "source": []
  },
  {
   "cell_type": "code",
   "execution_count": null,
   "metadata": {},
   "outputs": [],
   "source": []
  },
  {
   "cell_type": "code",
   "execution_count": null,
   "metadata": {},
   "outputs": [],
   "source": []
  },
  {
   "cell_type": "code",
   "execution_count": null,
   "metadata": {},
   "outputs": [],
   "source": []
  },
  {
   "cell_type": "code",
   "execution_count": null,
   "metadata": {},
   "outputs": [],
   "source": []
  },
  {
   "cell_type": "code",
   "execution_count": null,
   "metadata": {},
   "outputs": [],
   "source": []
  },
  {
   "cell_type": "code",
   "execution_count": null,
   "metadata": {},
   "outputs": [],
   "source": []
  },
  {
   "cell_type": "code",
   "execution_count": null,
   "metadata": {},
   "outputs": [],
   "source": []
  },
  {
   "cell_type": "code",
   "execution_count": null,
   "metadata": {},
   "outputs": [],
   "source": []
  },
  {
   "cell_type": "code",
   "execution_count": null,
   "metadata": {},
   "outputs": [],
   "source": []
  }
 ],
 "metadata": {
  "kernelspec": {
   "display_name": "Python 3",
   "language": "python",
   "name": "python3"
  },
  "language_info": {
   "codemirror_mode": {
    "name": "ipython",
    "version": 3
   },
   "file_extension": ".py",
   "mimetype": "text/x-python",
   "name": "python",
   "nbconvert_exporter": "python",
   "pygments_lexer": "ipython3",
   "version": "3.7.3"
  }
 },
 "nbformat": 4,
 "nbformat_minor": 2
}
